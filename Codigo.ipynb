{
 "cells": [
  {
   "cell_type": "markdown",
   "id": "daee9c85",
   "metadata": {},
   "source": [
    "<h1>Proyecto 2 - probabilidad y estadistica </h1>\n",
    "\n",
    "<h2>- Miguel Angel Nava Perez <br>\n",
    "- Ana Luisa Parra Valencia </h2>"
   ]
  },
  {
   "cell_type": "code",
   "execution_count": null,
   "id": "46b53a30",
   "metadata": {},
   "outputs": [],
   "source": [
    "import numpy as np\n",
    "import matplotlib.pyplot as plt\n",
    "import pandas as pd\n",
    "import seaborn as sns\n",
    "import scipy as scp\n",
    "from scipy import stats \n",
    "from statsmodels.sandbox.stats.runs import runstest_1samp \n",
    "from statsmodels.formula.api import ols\n",
    "import statsmodels.api as sm \n",
    "from tabulate import tabulate\n",
    "from statsmodels.stats.multicomp import pairwise_tukeyhsd\n",
    "\n",
    "\n",
    "def test_normalityKS(data, variable): # Pruaba de Normalidad Kolmogorov-Smirnof \n",
    "    \"\"\"\n",
    "    data: arreglo de datos a evaluar la normalidad\n",
    "    variable: string con el nombre de la variable \n",
    "    \"\"\"  \n",
    "    print(f\"\\n Análisis de normalidad por Kolmogorov-Smirnov para '{variable}'\")\n",
    "\n",
    "    # Kolmogorov-Smirnov (KS) test\n",
    "    ks_stat, ks_p = stats.kstest(data, 'norm', args=(np.mean(data), np.std(data)))\n",
    "    print(f\" Estadístico = {ks_stat:.4f}, p-valor = {ks_p:.4f}\")\n",
    "\n",
    "def test_normalitySW(data, variable): # Prueba de Normalizas Shapiro-Wilks \n",
    "    \"\"\"\n",
    "    data: arreglo de datos a evaluar la normalidad\n",
    "    variable: string con el nombre de la variable \n",
    "    \"\"\"\n",
    "    print(f\"\\n Análisis de normalidad por Shapiro-Wilk para '{variable}'\")\n",
    "    # Shapiro-Wilk test\n",
    "    shapiro_stat, shapiro_p = stats.shapiro(data)\n",
    "    print(f\"Estadístico = {shapiro_stat:.4f}, p-valor = {shapiro_p:.4f}\")\n",
    "    \n",
    "def random_test(residuos):\n",
    "    \"\"\"\n",
    "    Parameters\n",
    "    ----------\n",
    "    residuos : Array\n",
    "        DESCRIPTION: Residuos del ANOVA \n",
    "\n",
    "    Returns\n",
    "    -------\n",
    "    None.\n",
    "\n",
    "    \"\"\"\n",
    "    _, p_runs = runstest_1samp(residuos, correction=True)\n",
    "\n",
    "    print(f\"Prueba de Runs: p-valor={p_runs}\")\n",
    "    \n",
    "def test_homogeneityL(var1, var2, name1, name2): # Prueba de levene\n",
    "    \"\"\"\n",
    "    var1 y var2: variables a las que se corroborará homocedasticidad \n",
    "    name1 y name2: strings con el nnombre de las variables\n",
    "    \"\"\"\n",
    "    print(f\"\\n Análisis de homocedasticidad entre '{name1}' y '{name2}'\")\n",
    "\n",
    "    # Prueba de Levene (no asume normalidad)\n",
    "    levene_stat, levene_p = stats.levene(var1, var2)\n",
    "    print(f\"Levene test: Estadístico = {levene_stat:.4f}, p-valor = {levene_p:.4f}\")\n",
    "\n",
    "def tukey(respuesta,factor, alfa,n_factor):\n",
    "    \"\"\"\n",
    "\n",
    "    Parameters\n",
    "    ----------\n",
    "    respuesta : Array\n",
    "        DESCRIPTION. Array con los datos de la variable respuesta\n",
    "    factor : Array\n",
    "        DESCRIPTION.Array con los niveles del factor \n",
    "    alfa : Float\n",
    "        DESCRIPTION. Valor alfa de comparación \n",
    "    n_factor : String\n",
    "        DESCRIPTION. Nombre del factor\n",
    "\n",
    "    Returns\n",
    "    -------\n",
    "    None.\n",
    "\n",
    "    \"\"\"\n",
    "    \n",
    "    tukey = pairwise_tukeyhsd(respuesta, factor, alpha=alfa)\n",
    "    print(f\"Prueba Tukey para el factor {n_factor}\")\n",
    "    print(tukey)\n",
    "    \n",
    "def kruskal_W(df,Respuesta,Factor):\n",
    "    \"\"\"\n",
    "    \n",
    "    Parameters\n",
    "    ----------\n",
    "    df : Data_Frame\n",
    "        DESCRIPTION. estructura con los datos del experimento\n",
    "    Respuesta : String\n",
    "        DESCRIPTION. nombre de la variable respuesta, key del dataframe\n",
    "    Factor : String\n",
    "        DESCRIPTION. nombre del factor, key del dataframe\n",
    "\n",
    "    Returns\n",
    "    -------\n",
    "    None.\n",
    "\n",
    "    \"\"\"\n",
    "    grupos_B = [df[Respuesta][df[Factor] == nivel] for nivel in df[Factor].unique()]\n",
    "    stat_B, p_B = stats.kruskal(*grupos_B)\n",
    "    print(f\"Kruskal-Wallis para {Factor}: H = {stat_B:.4f}, p = {p_B:.4f}\")\n",
    "    \n",
    "    \n",
    "def kruskal_interaccion(df,Respuesta,Factor1,Factor2):\n",
    "    \"\"\"\n",
    "    \n",
    "\n",
    "    Parameters\n",
    "    ----------\n",
    "    df : Data_Frame\n",
    "        DESCRIPTION. estructura con los datos del experimento\n",
    "    Respuesta : String\n",
    "        DESCRIPTION. nombre de la variable respuesta, key del dataframe\n",
    "    Factor1 : String\n",
    "        DESCRIPTION. nombre del factor1, key del dataframe\n",
    "    Factor2 : String\n",
    "        DESCRIPTION.nombre del factor12, key del dataframe\n",
    "\n",
    "    Returns\n",
    "    -------\n",
    "    None.\n",
    "\n",
    "    \"\"\"\n",
    "    \n",
    "    df['interaccion'] = df[Factor1].astype(str) + \"_\" + df[Factor2].astype(str) # se genera una columana con las combinaciones entre factores\n",
    "\n",
    "    grupos_interaccion = [df[Respuesta][df['interaccion'] == nivel] for nivel in df['interaccion'].unique()]\n",
    "    stat_int, p_int = stats.kruskal(*grupos_interaccion)\n",
    "    print(f\"Kruskal-Wallis para la interacción {Factor1}x{Factor2} p = {p_int:.4f}\")\n",
    "\n",
    "def t_test_paired (before,after , nombre1,nombre2):#prueba T para datos pareados\n",
    "    \"\"\"\n",
    "    before: variable antes \n",
    "    after: variable después\n",
    "    \"\"\"\n",
    "    \n",
    "    t_stat, p_value = stats.ttest_rel(before, after)\n",
    "\n",
    "    # Mostrar resultados\n",
    "    \n",
    "    print(f\"Prueba t para muestras pareadas de {nombre1} y {nombre2}, P-valor: {p_value:.4f}\")\n",
    "\n",
    "def t_test_one(data,mu,variable): #Prueba T para una muestra\n",
    "    \"\"\"\n",
    "    data: arreglo de datos a comparar\n",
    "    mu: media poblacional o valor de referencia \n",
    "    variable: string con el nombre de la variable que se está comparando\n",
    "    \"\"\"\n",
    "    print(f\"Prueba T para una sola muestra para {variable}\")\n",
    "    t_stat, p_value = stats.ttest_1samp(data, mu)\n",
    "    print(f\"Estadístico = {t_stat:.4f}, valor_p = {p_value:.4f}\")"
   ]
  },
  {
   "cell_type": "markdown",
   "metadata": {},
   "source": [
    "<h1>Parte 1: Comparación de Muestras"
   ]
  },
  {
   "cell_type": "code",
   "execution_count": 65,
   "id": "6d7254fa",
   "metadata": {},
   "outputs": [
    {
     "name": "stdout",
     "output_type": "stream",
     "text": [
      "<class 'pandas.core.frame.DataFrame'>\n",
      "RangeIndex: 1020 entries, 0 to 1019\n",
      "Data columns (total 12 columns):\n",
      " #   Column     Non-Null Count  Dtype  \n",
      "---  ------     --------------  -----  \n",
      " 0   aveOralM   1020 non-null   float64\n",
      " 1   Gender     1020 non-null   object \n",
      " 2   Age        1020 non-null   object \n",
      " 3   Ethnicity  1020 non-null   object \n",
      " 4   T_atm      1020 non-null   float64\n",
      " 5   Humidity   1020 non-null   float64\n",
      " 6   Cosmetics  1020 non-null   object \n",
      " 7   Distance   1018 non-null   float64\n",
      " 8   Max1R13    1020 non-null   float64\n",
      " 9   Max1L13    1020 non-null   float64\n",
      " 10  T_Max      1020 non-null   float64\n",
      " 11  TF_HCC     1020 non-null   float64\n",
      "dtypes: float64(8), object(4)\n",
      "memory usage: 95.8+ KB\n"
     ]
    }
   ],
   "source": [
    "df = (pd.read_csv(\"Proyecto 2/FLIR_groups1and2.csv\", sep=\";\" , header=2))[['Max1R13_1', 'Max1R13_2', 'Max1R13_3', 'Max1R13_4', \n",
    "        'Max1L13_1', 'Max1L13_2', 'Max1L13_3', 'Max1L13_4',\n",
    "        'T_Max1', 'T_Max2', 'T_Max3', 'T_Max4',\n",
    "        'T_FHCC1', 'T_FHCC2', 'T_FHCC3', 'T_FHCC4',\n",
    "        'aveOralM', 'Gender', 'Age', 'Ethnicity', 'T_atm', 'Humidity', 'Cosmetics','Distance']].copy() #cargamos el dataframe\n",
    "\n",
    "\n",
    "#creamos la nueva columna con el valor promediado de Max1R13 y eliminamos las demás\n",
    "df['Max1R13'] = df[['Max1R13_1', 'Max1R13_2', 'Max1R13_3', 'Max1R13_4']].mean(axis=1, skipna=True).astype(float)\n",
    "df.drop(columns=['Max1R13_1', 'Max1R13_2', 'Max1R13_3', 'Max1R13_4'],inplace=True) \n",
    "\n",
    "#creamos la nueva columna con el valor promediado de Max1L13 y eliminamos las demás\n",
    "df['Max1L13'] = df[['Max1L13_1', 'Max1L13_2', 'Max1L13_3', 'Max1L13_4']].mean(axis=1, skipna=True).astype(float)\n",
    "df.drop(columns=['Max1L13_1', 'Max1L13_2', 'Max1L13_3', 'Max1L13_4'],inplace=True)\n",
    "\n",
    "#creamos la nueva columna con el valor promediado de T_Max y eliminamos las demás\n",
    "df['T_Max'] = df[['T_Max1', 'T_Max2', 'T_Max3', 'T_Max4']].mean(axis=1, skipna=True).astype(float)\n",
    "df.drop(columns=['T_Max1', 'T_Max2', 'T_Max3', 'T_Max4'],inplace=True)\n",
    "\n",
    "#creamos la nueva columna con el valor promediado de TF_HCC y eliminamos las demás\n",
    "df['TF_HCC'] = df[['T_FHCC1', 'T_FHCC2', 'T_FHCC3', 'T_FHCC4']].mean(axis=1, skipna=True).astype(float)\n",
    "df.drop(columns=['T_FHCC1', 'T_FHCC2', 'T_FHCC3', 'T_FHCC4'],inplace=True)\n",
    "\n",
    "#procedemos a imputar los valores nulos de cosmetics con la mediana\n",
    "\n",
    "df[\"Cosmetics\"] = df[\"Cosmetics\"].fillna(\"No\")\n",
    "\n",
    "df.info()"
   ]
  },
  {
   "cell_type": "markdown",
   "metadata": {},
   "source": [
    "<h2> Analisis Exploratorio de Datos"
   ]
  },
  {
   "cell_type": "code",
   "execution_count": 66,
   "metadata": {},
   "outputs": [
    {
     "name": "stdout",
     "output_type": "stream",
     "text": [
      "+----------+-------------+----------+-------+-------------+------------+------------+-------------+------------+-------------+-------------+-------------+------------+\n",
      "|          |    aveOralM | Gender   | Age   | Ethnicity   |      T_atm |   Humidity |   Cosmetics |   Distance |     Max1R13 |     Max1L13 |       T_Max |     TF_HCC |\n",
      "|----------+-------------+----------+-------+-------------+------------+------------+-------------+------------+-------------+-------------+-------------+------------|\n",
      "| Media    | 37.0284     | nan      | nan   | nan         | 24.1154    |  28.723    |         nan |   0.729784 | 35.5965     | 35.6115     | 36.0848     | 34.5739    |\n",
      "| Mediana  | 36.94       | nan      | nan   | nan         | 24         |  26.3      |         nan |   0.62     | 35.5487     | 35.575      | 36.0275     | 34.605     |\n",
      "| Moda     | 36.89       | Female   | 18-20 | White       | 24         |  30        |           0 |   0.6      | 35.6775     | 35.665      | 36.0325     | 34.4075    |\n",
      "| SD       |  0.509502   | nan      | nan   | nan         |  1.33634   |  13.0716   |         nan |   2.45649  |  0.574888   |  0.54976    |  0.491821   |  0.672461  |\n",
      "| MAD      |  0.2        | nan      | nan   | nan         |  0.6       |   8.9      |         nan | nan        |  0.31       |  0.305      |  0.2525     |  0.37125   |\n",
      "| Varianza |  0.259593   | nan      | nan   | nan         |  1.7858    | 170.867    |         nan |   6.03432  |  0.330496   |  0.302236   |  0.241888   |  0.452204  |\n",
      "| IQR      |  0.3625     | nan      | nan   | nan         |  1.3       |  18.6      |         nan |   0.1      |  0.625      |  0.61125    |  0.505      |  0.7525    |\n",
      "| CV %     |  0.0137927  | nan      | nan   | nan         |  0.0556807 |   0.49702  |         nan |   3.96207  |  0.0161718  |  0.0154535  |  0.0136513  |  0.0194325 |\n",
      "| CVM %    |  0.00541419 | nan      | nan   | nan         |  0.025     |   0.338403 |         nan | nan        |  0.00872042 |  0.00857344 |  0.00700854 |  0.0107282 |\n",
      "+----------+-------------+----------+-------+-------------+------------+------------+-------------+------------+-------------+-------------+-------------+------------+\n"
     ]
    }
   ],
   "source": [
    "# Columnas numéricas\n",
    "df_num = df.select_dtypes(include=[np.number])\n",
    "\n",
    "# Columnas categóricas (excluimos las numéricas)\n",
    "df_cat = df.select_dtypes(exclude=[np.number])\n",
    "\n",
    "metricas_num = pd.DataFrame({ \n",
    "    'Media': df_num.mean(), \n",
    "    'Mediana': df_num.median(),\n",
    "    'Moda': df_num.mode().iloc[0],\n",
    "    'SD': df_num.std(),\n",
    "    'MAD': scp.stats.median_abs_deviation(df_num),\n",
    "    'Varianza': df_num.var(),\n",
    "    'IQR': df_num.quantile(0.75) - df_num.quantile(0.25),\n",
    "    'CV %': (df_num.std() / df_num.median()),\n",
    "    'CVM %': (scp.stats.median_abs_deviation(df_num) / df_num.median())\n",
    "}).T\n",
    "\n",
    "# Métricas para columnas categóricas: solo la Moda es significativa\n",
    "indices = [\"Media\", \"Mediana\", \"Moda\", \"SD\", \"MAD\", \"Varianza\", \"IQR\", \"CV %\", \"CVM %\"]\n",
    "metricas_cat = pd.DataFrame(index=indices, columns=df_cat.columns)\n",
    "metricas_cat.loc[\"Moda\"] = df_cat.apply(lambda x: x.mode().iloc[0] if not x.mode().empty else np.nan)\n",
    "\n",
    "# Unir ambos DataFrames (las columnas no se traslapan)\n",
    "metricas_completas = pd.concat([metricas_num, metricas_cat], axis=1)\n",
    "\n",
    "# Reordenar las columnas según el orden original de df\n",
    "metricas_completas = metricas_completas[df.columns]\n",
    "\n",
    "print(tabulate(metricas_completas, headers='keys', tablefmt='psql'))\n"
   ]
  },
  {
   "cell_type": "code",
   "execution_count": 67,
   "metadata": {},
   "outputs": [
    {
     "data": {
      "image/png": "[encoded data removed]",
      "text/plain": [
       "<Figure size 1200x1200 with 8 Axes>"
      ]
     },
     "metadata": {},
     "output_type": "display_data"
    }
   ],
   "source": [
    "fig, ax = plt.subplots(2 , 4 , figsize=(12,12))\n",
    "\n",
    "sns.boxplot(data=df_num[\"Humidity\"], ax=ax[0][0])\n",
    "ax[0][0].set_title('Humidity')\n",
    "ax[0][0].set_ylabel('Humidity %')\n",
    "\n",
    "sns.boxplot(data=df_num[\"T_atm\"], ax=ax[0][1])\n",
    "ax[0][1].set_title('T_atm')\n",
    "ax[0][1].set_ylabel('T_atm °C')\n",
    "\n",
    "sns.boxplot(data=df_num[\"aveOralM\"], ax=ax[0][2])\n",
    "ax[0][2].set_title('aveOralM')\n",
    "ax[0][2].set_ylabel('aveOralM °C')\n",
    "\n",
    "sns.boxplot(data=df_num[\"Max1R13\"], ax=ax[0][3])\n",
    "ax[0][3].set_title(\"Max1R13\")\n",
    "ax[0][3].set_ylabel('T°C')\n",
    "\n",
    "sns.boxplot(data=df_num[\"Max1L13\"], ax=ax[1][0])\n",
    "ax[1][0].set_title('Max1L13')\n",
    "ax[1][0].set_ylabel('T°C')\n",
    "\n",
    "sns.boxplot(data=df_num[\"TF_HCC\"], ax=ax[1][1])\n",
    "ax[1][1].set_title('TF_HCC')\n",
    "ax[1][1].set_ylabel('T°C')\n",
    "\n",
    "sns.boxplot(data=df_num[\"T_Max\"], ax=ax[1][2])\n",
    "ax[1][2].set_title('T_Max')\n",
    "ax[1][2].set_ylabel('T°C')\n",
    "plt.show()"
   ]
  },
  {
   "cell_type": "code",
   "execution_count": 68,
   "id": "e6789405",
   "metadata": {},
   "outputs": [
    {
     "name": "stdout",
     "output_type": "stream",
     "text": [
      "Valores de medidas fisiologicas en valores atipicos:\n",
      "    aveOralM: 40.34\n",
      "    Max1R13: 38.3275\n",
      "    Max1L13: 38.03\n",
      "    T_Max: 38.807500000000005\n",
      "    TF_HCC: 36.74\n",
      "\n"
     ]
    }
   ],
   "source": [
    "### Evaluando como se comportan los datos atipicos en una fila determinada, en este caso la del valor mas alto\n",
    "#       en la temperatura oral \n",
    "indice_max = df[\"aveOralM\"].idxmax()\n",
    "\n",
    "print(f\"\"\"Valores de medidas fisiologicas en valores atipicos:\n",
    "    aveOralM: {df[\"aveOralM\"][indice_max]}\n",
    "    Max1R13: {df[\"Max1R13\"][indice_max]}\n",
    "    Max1L13: {df[\"Max1L13\"][indice_max]}\n",
    "    T_Max: {df[\"T_Max\"][indice_max]}\n",
    "    TF_HCC: {df[\"TF_HCC\"][indice_max]}\n",
    "\"\"\")\n"
   ]
  },
  {
   "cell_type": "markdown",
   "metadata": {},
   "source": [
    "Se detectan muchos Outliers en los box-plots de todas las variables excepto la de la Humedad relativa, pero en vista de que éstas son medidas fisiológicas, y segun lo evaluado en la celda anterior, se ve que estos valores atípicos no representan un error en la medición, sino que éstos representan a personas que tenían su temperatura corporal mas alta (posiblemente fiebre) respecto a los demás en el dia que les realizaron las medidas. por lo que se decidirá conservar estos valores atipicos "
   ]
  },
  {
   "cell_type": "markdown",
   "metadata": {},
   "source": [
    "\n",
    "<h1>Hipótesis</h1>\n",
    "El objetivo de este experimento es determinar si hay una diferencia significativa en el promedio de dos mediciones continuas por cada sujeto, una con el termógrafo y otra con el termómetro oral, dichas mediciones provienen del mismo grupo de individuos (mediciones pareadas), por tanto es apropiado hacer uso de la prueba T para muestras relacionadas para datos pareados, para los datos que tengan una distribución normal, por otro lado, si alguna de las diferencias no cumplen con el supuesto de normalidad, a esa variable se le hará la prueba de suma de rangos con signos de Wilcoxon, de la cual las hipótesis se pueden interpretar de igual forma que la de la prueba t para muestras pareadas\n",
    "<h2>Hipótesis nula  </h2>\n",
    "\n",
    "$H_{0}$\n",
    "\n",
    "No hay diferencia significativa entre las temperaturas medidas con el termógrafo y las orales. Las técnicas son equivalentes. \n",
    "\n",
    "<h2>Hipótesis alternativa  </h2>\n",
    "\n",
    "$H_{1}$\n",
    "\n",
    "Sí hay una diferencia significativa entre las dos mediciones. Las técnicas no son equivalentes.\n",
    "\n",
    "\n"
   ]
  },
  {
   "cell_type": "markdown",
   "id": "ff008877",
   "metadata": {},
   "source": [
    "Primero, se comprobará que distribuciones son normales (para la prueba t pareada, se prueba la normalidad de las diferencias)"
   ]
  },
  {
   "cell_type": "code",
   "execution_count": 69,
   "id": "7a9a1402",
   "metadata": {},
   "outputs": [
    {
     "name": "stdout",
     "output_type": "stream",
     "text": [
      "\n",
      " Análisis de normalidad por Kolmogorov-Smirnov para 'Max1R13'\n",
      " Estadístico = 0.0298, p-valor = 0.3196\n",
      "\n",
      " Análisis de normalidad por Kolmogorov-Smirnov para 'Max1L13'\n",
      " Estadístico = 0.0312, p-valor = 0.2671\n",
      "\n",
      " Análisis de normalidad por Kolmogorov-Smirnov para 'T_Max'\n",
      " Estadístico = 0.0286, p-valor = 0.3668\n",
      "\n",
      " Análisis de normalidad por Kolmogorov-Smirnov para 'TF_HCC'\n",
      " Estadístico = 0.0664, p-valor = 0.0002\n"
     ]
    }
   ],
   "source": [
    "_Max1R = df[\"aveOralM\"] - df[\"Max1R13\"]\n",
    "\n",
    "test_normalityKS(_Max1R,\"Max1R13\")\n",
    "\n",
    "_Max1L = df[\"aveOralM\"] - df[\"Max1L13\"]\n",
    "\n",
    "test_normalityKS(_Max1L , \"Max1L13\")\n",
    "\n",
    "_Tmax = df[\"aveOralM\"] - df[\"T_Max\"]\n",
    "\n",
    "test_normalityKS(_Tmax , \"T_Max\")\n",
    "\n",
    "TF_hCC = df[\"aveOralM\"] - df[\"TF_HCC\"]\n",
    "\n",
    "test_normalityKS(TF_hCC , \"TF_HCC\")"
   ]
  },
  {
   "cell_type": "markdown",
   "metadata": {},
   "source": [
    "La prueba de Kolmogorov-Smirnov tiene dos hipótesis:\n",
    "- $H_{0}$: Los datos provienen de una distribucion normal\n",
    "- $H_{1}$: Los datos NO provienen de una distribucion normal\n",
    "\n",
    "De acuerdo a lo obtenido, con los p-valores de Max1R13, Max1L13, T_max. Éstos son mayores a $\\alpha=$ 0.05  se toma la hipótesis nula $H_{0}$, concluyendo que los valores de cada variable ya mencionada pertenecen a una distribución normal, respectivamente.\n",
    "\n",
    "Por otro lado, para TF_HCC se obtuvo un valor p de 0.0002, menor a $\\alpha=$ 0.05, entonces tomamos la hipótesis alternativa $H_{1}$, por lo que los valores de la variable TF_HCC NO pertenecen a una distribución normal\n",
    "\n",
    "A continuación, procederemos a hacer las pruebas elegidas para determinar si estas tecnicas de medición son equivalentes, para las que pertenecen a una distribución normal utilizaremos la prueba t para datos pareados, y para TF_HCC utilizaremos la prueba suma de rangos con signo de wilcoxon:"
   ]
  },
  {
   "cell_type": "code",
   "execution_count": 70,
   "id": "1e48412b",
   "metadata": {},
   "outputs": [
    {
     "name": "stdout",
     "output_type": "stream",
     "text": [
      "Prueba t para muestras pareadas de ave_oralM y Max1R13, P-valor: 0.0000\n",
      "Prueba t para muestras pareadas de ave_oralM y Max1L13, P-valor: 0.0000\n",
      "Prueba t para muestras pareadas de ave_oralM y T_Max, P-valor: 0.0000\n",
      "Prueba t para muestras pareadas de ave_oralM y TF_HCC, P-valor: 0.0000\n",
      "Prueba de rangos con signo para de La temperatura oral y TF_HCC:\n",
      "  WilcoxonResult(statistic=0.0, pvalue=1.8210062850136926e-168)\n"
     ]
    }
   ],
   "source": [
    "t_test_paired(df[\"aveOralM\"] , df[\"Max1R13\"] , \"ave_oralM\" , \"Max1R13\")\n",
    "\n",
    "t_test_paired(df[\"aveOralM\"] , df[\"Max1L13\"] , \"ave_oralM\" , \"Max1L13\")\n",
    "\n",
    "t_test_paired(df[\"aveOralM\"] , df[\"T_Max\"] , \"ave_oralM\" , \"T_Max\")\n",
    "\n",
    "t_test_paired(df[\"aveOralM\"] , df[\"TF_HCC\"] , \"ave_oralM\" , \"TF_HCC\")\n",
    "\n",
    "print(f\"Prueba de rangos con signo para de La temperatura oral y TF_HCC:\\n  {scp.stats.wilcoxon(df[\"aveOralM\"],df[\"TF_HCC\"])}\")"
   ]
  },
  {
   "cell_type": "markdown",
   "metadata": {},
   "source": [
    "<h1>Conclusion </h1>\n",
    "de acuerdo a las hipotesis ya planteadas, todos los valores p que se obtuvieron, 0.0 para Max1R13, Max1L13, y T_Max, y un valor efectivamente igual a cero para TF_HCC, todos son menores a $\\alpha=$ 0.05, por lo que para todas estas variables respecto a la temperatura promedio oral tomada con un termometro oral en modo monitoreo, tomaremos la hipotesis $H_{1}$, concluyendo que no son técnicas equivalentes, segun las pruebas estadisticas realizadas."
   ]
  },
  {
   "cell_type": "markdown",
   "metadata": {},
   "source": [
    "<h1>Parte 2: Análisis de varianza</h1>"
   ]
  },
  {
   "cell_type": "code",
   "execution_count": 71,
   "id": "29a33a60",
   "metadata": {},
   "outputs": [
    {
     "name": "stdout",
     "output_type": "stream",
     "text": [
      "+----------+--------------+\n",
      "|          |   Viabilidad |\n",
      "|----------+--------------|\n",
      "| Media    |   101.884    |\n",
      "| Mediana  |    98.6111   |\n",
      "| Moda     |    80.1719   |\n",
      "| SD       |    23.5526   |\n",
      "| MAD      |    18.0556   |\n",
      "| Varianza |   554.724    |\n",
      "| IQR      |    31.3869   |\n",
      "| CV %     |     0.238843 |\n",
      "| CVM %    |     0.183099 |\n",
      "+----------+--------------+"
     ]
    },
    {
     "name": "stdout",
     "output_type": "stream",
     "text": [
      "\n"
     ]
    },
    {
     "data": {
      "image/png": "[encoded data removed]",
      "text/plain": [
       "<Figure size 640x480 with 1 Axes>"
      ]
     },
     "metadata": {},
     "output_type": "display_data"
    }
   ],
   "source": [
    "df1 = (pd.read_excel(\"Proyecto 2/A375.xlsx\")).copy() #cargamos el dataframe\n",
    "\n",
    "Viabilidad = df1[\"Viabilidad2\"]\n",
    "\n",
    "metricas = pd.DataFrame(\n",
    "    data=[\n",
    "        Viabilidad.mean(), \n",
    "        Viabilidad.median(),\n",
    "        Viabilidad.mode().iloc[0],\n",
    "        Viabilidad.std(),\n",
    "        scp.stats.median_abs_deviation(Viabilidad),\n",
    "        Viabilidad.var(),\n",
    "        Viabilidad.quantile(0.75) - Viabilidad.quantile(0.25),\n",
    "        Viabilidad.std() / Viabilidad.median(),\n",
    "        scp.stats.median_abs_deviation(Viabilidad) / Viabilidad.median()\n",
    "    ],\n",
    "    index=[\"Media\", \"Mediana\", \"Moda\", \"SD\", \"MAD\", \"Varianza\", \"IQR\", \"CV %\", \"CVM %\"],\n",
    "    columns=[\"Viabilidad\"]\n",
    ")\n",
    "\n",
    "\n",
    "# Métricas para columnas categóricas: solo la Moda es significativa\n",
    "indices1 = [\"Media\", \"Mediana\", \"Moda\", \"SD\", \"MAD\", \"Varianza\", \"IQR\", \"CV %\", \"CVM %\"]\n",
    "metricas_cat1 = pd.DataFrame(index=indices, columns=df_cat.columns)\n",
    "metricas_cat1.loc[\"Moda\"] = df_cat.apply(lambda x: x.mode().iloc[0] if not x.mode().empty else np.nan)\n",
    "\n",
    "print(tabulate(metricas, headers='keys', tablefmt='psql'))\n",
    "\n",
    "sns.boxplot(Viabilidad)\n",
    "plt.show()\n"
   ]
  },
  {
   "cell_type": "markdown",
   "id": "22fd9712",
   "metadata": {},
   "source": [
    "<h2>"
   ]
  },
  {
   "cell_type": "markdown",
   "id": "b19f11b3",
   "metadata": {},
   "source": [
    "primero comprobamos la normalidad de la variable respuesta, como este conjunto de datos tiene menos de 50 datos, se utilizará la prueba de Shapiro-Wilk, ésta prueba tiene dos hipótesis:\n",
    "- $H_{0}$: Los datos provienen de una distribucion normal\n",
    "- $H_{1}$: Los datos NO provienen de una distribucion normal"
   ]
  },
  {
   "cell_type": "code",
   "execution_count": 72,
   "id": "ad3b60e0",
   "metadata": {},
   "outputs": [
    {
     "name": "stdout",
     "output_type": "stream",
     "text": [
      "\n",
      " Análisis de normalidad por Shapiro-Wilk para 'Viabilidad2'\n",
      "Estadístico = 0.9614, p-valor = 0.4675\n"
     ]
    }
   ],
   "source": [
    "## Prueba de normalidad\n",
    "test_normalitySW(df1[\"Viabilidad2\"] , \"Viabilidad2\")"
   ]
  },
  {
   "cell_type": "markdown",
   "id": "2370ab95",
   "metadata": {},
   "source": [
    "de acuerdo al valor p = 0.4675, mayor a ${\\alpha}=$ 0.05, rechazamos $H_{1}$ y aceptamos $H_{0}$, por lo que los datos de la variable respuesta si pertenecen a una distribucion normal\n",
    "\n",
    "A continuación verificaremos el supuesto de homocedasticidad en los factores con la prueba de levene, esta prueba tiene las siguientes hipotesis:\n",
    "\n",
    "- $H_{0}$: Los grupos de datos presentan varianza constante\n",
    "- $H_{1}$: Los grupos de datos NO presentan varianza constante\n"
   ]
  },
  {
   "cell_type": "code",
   "execution_count": 73,
   "id": "3188f7d9",
   "metadata": {},
   "outputs": [
    {
     "name": "stdout",
     "output_type": "stream",
     "text": [
      "------------------------------------------------------------\n",
      "Levene test para Bloque2: p-valor = 0.4728309543255004\n",
      "\n",
      "Levene test paricEstimulos-valor = 0.34397468724013025\n",
      "\n",
      "Levene test para Tiempo-valor = 0.17525496512635422\n",
      "\n"
     ]
    }
   ],
   "source": [
    "## Prueba de Homocedasticidad\n",
    "Bloque2_3 = df1[df1[\"Bloque2\"] == 3]\n",
    "Bloque2_4 = df1[df1[\"Bloque2\"]== 4]\n",
    "\n",
    "Estimulo2_1 = df1[df1[\"Estimulo2\"] == 1]\n",
    "Estimulo2_2 = df1[df1[\"Estimulo2\"]== 2]\n",
    "\n",
    "Tiempo2_1 = df1[df1[\"Tiempo2\"] == 1]\n",
    "Tiempo2_7 = df1[df1[\"Tiempo2\"]== 7]\n",
    "\n",
    "print(\"---\"*20)\n",
    "_ , levene_p = stats.levene(Bloque2_3[\"Viabilidad2\"] , Bloque2_4[\"Viabilidad2\"] )\n",
    "print(f\"Levene test para Bloque2: p-valor = {levene_p}\\n\")\n",
    "\n",
    "_ , levene_p = stats.levene(Estimulo2_1[\"Viabilidad2\"] , Estimulo2_2[\"Viabilidad2\"] )\n",
    "print(f\"Levene test paricEstimulos-valor = {levene_p}\\n\")\n",
    "\n",
    "_ , levene_p = stats.levene(Tiempo2_1[\"Viabilidad2\"] , Tiempo2_7[\"Viabilidad2\"] )\n",
    "print(f\"Levene test para Tiempo-valor = {levene_p}\\n\")"
   ]
  },
  {
   "cell_type": "markdown",
   "id": "245501c1",
   "metadata": {},
   "source": [
    "de acuerdo al p-valor obtenido para los 3 factores, el cual es mayor al ${\\alpha}=0.05$, aceptamos $H_{0}$, por lo que se concluye que los 3 factores son homocedasticos en sus niveles"
   ]
  },
  {
   "cell_type": "markdown",
   "id": "4ee3a34c",
   "metadata": {},
   "source": [
    "<h2>Supuestos</h2>\n",
    " De acuerdo a la prueba de normalidad de Shapiro-Wilk y la prueba Levene  realizadas los datos son normales y homocedasticos, por lo que procederemos a realizar el modelo ANOVA, para cada efecto, el modelo tiene las siguiente hipotesis:\n",
    " \n",
    " - $H_{0}$: El efecto es igual a cero, es decir que el factor no es significativo\n",
    " - $H_{1}$: El efecto es diferente de cero, es decir que el factor es significativo\n",
    " \n",
    " Al encontrar factores o interacciones que no tengan efecto significativo de acuerdo a las hipótesis ya planteadas, se irán eliminando uno a uno de el modelo ANOVA para observar como se comporta la significancia de nuestros factores"
   ]
  },
  {
   "cell_type": "code",
   "execution_count": 74,
   "metadata": {},
   "outputs": [
    {
     "name": "stdout",
     "output_type": "stream",
     "text": [
      "┏━━━━━━━━━━━━━━━━━━━━━━━━━━━━━━━━━━━━┳━━━━━━━━━━━━━━┳━━━━━━┳━━━━━━━━━━━━━┳━━━━━━━━━━━━━━┓\n",
      "┃                                    ┃       sum_sq ┃   df ┃           F ┃       PR(>F) ┃\n",
      "┣━━━━━━━━━━━━━━━━━━━━━━━━━━━━━━━━━━━━╋━━━━━━━━━━━━━━╋━━━━━━╋━━━━━━━━━━━━━╋━━━━━━━━━━━━━━┫\n",
      "┃ Intercept                          ┃ 34954.4      ┃    1 ┃ 131.887     ┃   3.8779e-09 ┃\n",
      "┣━━━━━━━━━━━━━━━━━━━━━━━━━━━━━━━━━━━━╋━━━━━━━━━━━━━━╋━━━━━━╋━━━━━━━━━━━━━╋━━━━━━━━━━━━━━┫\n",
      "┃ C(Bloque2)                         ┃  1001.32     ┃    1 ┃   3.7781    ┃   0.0697302  ┃\n",
      "┣━━━━━━━━━━━━━━━━━━━━━━━━━━━━━━━━━━━━╋━━━━━━━━━━━━━━╋━━━━━━╋━━━━━━━━━━━━━╋━━━━━━━━━━━━━━┫\n",
      "┃ C(Estimulo2)                       ┃    45.8235   ┃    1 ┃   0.172898  ┃   0.683073   ┃\n",
      "┣━━━━━━━━━━━━━━━━━━━━━━━━━━━━━━━━━━━━╋━━━━━━━━━━━━━━╋━━━━━━╋━━━━━━━━━━━━━╋━━━━━━━━━━━━━━┫\n",
      "┃ C(Tiempo2)                         ┃   693.645    ┃    1 ┃   2.61721   ┃   0.125252   ┃\n",
      "┣━━━━━━━━━━━━━━━━━━━━━━━━━━━━━━━━━━━━╋━━━━━━━━━━━━━━╋━━━━━━╋━━━━━━━━━━━━━╋━━━━━━━━━━━━━━┫\n",
      "┃ C(Bloque2):C(Estimulo2)            ┃   203.388    ┃    1 ┃   0.767408  ┃   0.393982   ┃\n",
      "┣━━━━━━━━━━━━━━━━━━━━━━━━━━━━━━━━━━━━╋━━━━━━━━━━━━━━╋━━━━━━╋━━━━━━━━━━━━━╋━━━━━━━━━━━━━━┫\n",
      "┃ C(Bloque2):C(Tiempo2)              ┃     0.819985 ┃    1 ┃   0.0030939 ┃   0.956331   ┃\n",
      "┣━━━━━━━━━━━━━━━━━━━━━━━━━━━━━━━━━━━━╋━━━━━━━━━━━━━━╋━━━━━━╋━━━━━━━━━━━━━╋━━━━━━━━━━━━━━┫\n",
      "┃ C(Estimulo2):C(Tiempo2)            ┃    67.7313   ┃    1 ┃   0.255558  ┃   0.620081   ┃\n",
      "┣━━━━━━━━━━━━━━━━━━━━━━━━━━━━━━━━━━━━╋━━━━━━━━━━━━━━╋━━━━━━╋━━━━━━━━━━━━━╋━━━━━━━━━━━━━━┫\n",
      "┃ C(Bloque2):C(Estimulo2):C(Tiempo2) ┃    42.8961   ┃    1 ┃   0.161852  ┃   0.69278    ┃\n",
      "┣━━━━━━━━━━━━━━━━━━━━━━━━━━━━━━━━━━━━╋━━━━━━━━━━━━━━╋━━━━━━╋━━━━━━━━━━━━━╋━━━━━━━━━━━━━━┫\n",
      "┃ Residual                           ┃  4240.52     ┃   16 ┃ nan         ┃ nan          ┃\n",
      "┗━━━━━━━━━━━━━━━━━━━━━━━━━━━━━━━━━━━━┻━━━━━━━━━━━━━━┻━━━━━━┻━━━━━━━━━━━━━┻━━━━━━━━━━━━━━┛\n"
     ]
    }
   ],
   "source": [
    "modelo = ols('Viabilidad2 ~ C(Bloque2)*C(Estimulo2)*C(Tiempo2)', data=df1).fit()\n",
    "\n",
    "anova_table = sm.stats.anova_lm(modelo, typ=3)\n",
    "\n",
    "# Mostrar resultados\n",
    "print(tabulate(anova_table,headers='keys',tablefmt='heavy_grid'))"
   ]
  },
  {
   "cell_type": "markdown",
   "id": "29c27232",
   "metadata": {},
   "source": [
    "Se puede observar que todos los factores e interacciones entre factores tienen un p-valor mayor a ${\\alpha}=0.05$, por lo que se toma $H_{0}$, ósea que no son significativos, procederemos a eliminar la interaccion entre los 3 factores"
   ]
  },
  {
   "cell_type": "code",
   "execution_count": 75,
   "metadata": {},
   "outputs": [
    {
     "name": "stdout",
     "output_type": "stream",
     "text": [
      "┏━━━━━━━━━━━━━━━━━━━━━━━━━┳━━━━━━━━━━━━┳━━━━━━┳━━━━━━━━━━━━┳━━━━━━━━━━━━━━━┓\n",
      "┃                         ┃     sum_sq ┃   df ┃          F ┃        PR(>F) ┃\n",
      "┣━━━━━━━━━━━━━━━━━━━━━━━━━╋━━━━━━━━━━━━╋━━━━━━╋━━━━━━━━━━━━╋━━━━━━━━━━━━━━━┫\n",
      "┃ Intercept               ┃ 37543.3    ┃    1 ┃ 149.002    ┃   7.74599e-10 ┃\n",
      "┣━━━━━━━━━━━━━━━━━━━━━━━━━╋━━━━━━━━━━━━╋━━━━━━╋━━━━━━━━━━━━╋━━━━━━━━━━━━━━━┫\n",
      "┃ C(Bloque2)              ┃  1508.88   ┃    1 ┃   5.98842  ┃   0.0255622   ┃\n",
      "┣━━━━━━━━━━━━━━━━━━━━━━━━━╋━━━━━━━━━━━━╋━━━━━━╋━━━━━━━━━━━━╋━━━━━━━━━━━━━━━┫\n",
      "┃ C(Tiempo2)              ┃   687.479  ┃    1 ┃   2.72846  ┃   0.116923    ┃\n",
      "┣━━━━━━━━━━━━━━━━━━━━━━━━━╋━━━━━━━━━━━━╋━━━━━━╋━━━━━━━━━━━━╋━━━━━━━━━━━━━━━┫\n",
      "┃ C(Estimulo2)            ┃   110.066  ┃    1 ┃   0.436831 ┃   0.517514    ┃\n",
      "┣━━━━━━━━━━━━━━━━━━━━━━━━━╋━━━━━━━━━━━━╋━━━━━━╋━━━━━━━━━━━━╋━━━━━━━━━━━━━━━┫\n",
      "┃ C(Bloque2):C(Estimulo2) ┃   172.001  ┃    1 ┃   0.682635 ┃   0.420126    ┃\n",
      "┣━━━━━━━━━━━━━━━━━━━━━━━━━╋━━━━━━━━━━━━╋━━━━━━╋━━━━━━━━━━━━╋━━━━━━━━━━━━━━━┫\n",
      "┃ C(Bloque2):C(Tiempo2)   ┃    27.7613 ┃    1 ┃   0.110179 ┃   0.743998    ┃\n",
      "┣━━━━━━━━━━━━━━━━━━━━━━━━━╋━━━━━━━━━━━━╋━━━━━━╋━━━━━━━━━━━━╋━━━━━━━━━━━━━━━┫\n",
      "┃ C(Estimulo2):C(Tiempo2) ┃    27.5705 ┃    1 ┃   0.109422 ┃   0.744846    ┃\n",
      "┣━━━━━━━━━━━━━━━━━━━━━━━━━╋━━━━━━━━━━━━╋━━━━━━╋━━━━━━━━━━━━╋━━━━━━━━━━━━━━━┫\n",
      "┃ Residual                ┃  4283.42   ┃   17 ┃ nan        ┃ nan           ┃\n",
      "┗━━━━━━━━━━━━━━━━━━━━━━━━━┻━━━━━━━━━━━━┻━━━━━━┻━━━━━━━━━━━━┻━━━━━━━━━━━━━━━┛\n"
     ]
    }
   ],
   "source": [
    "#Borramos el menos significativo (el de mayor valor p)\n",
    "modelo = ols('Viabilidad2 ~ C(Bloque2)+C(Tiempo2)+C(Estimulo2) + C(Bloque2):C(Estimulo2) + C(Bloque2):C(Tiempo2) + C(Estimulo2):C(Tiempo2) + C(Estimulo2):C(Tiempo2)', data=df1).fit()\n",
    "\n",
    "anova_table = sm.stats.anova_lm(modelo, typ=3)\n",
    "\n",
    "# Mostrar resultados\n",
    "print(tabulate(anova_table,headers='keys',tablefmt='heavy_grid'))"
   ]
  },
  {
   "cell_type": "markdown",
   "id": "ba7811f5",
   "metadata": {},
   "source": [
    "se puede observar que el valor p de Bloque ahora es menor al valor ${\\alpha}=0.05$, por lo que este factor, osea el recubrimiento de PEG tiene un efecto significativo en la viabilidad celular, se procede a eliminar la interacción entre Estimulo y Tiempo, la cual cuenta con el mayor p-valor, $i.e.$ el que es menos significativo"
   ]
  },
  {
   "cell_type": "code",
   "execution_count": 76,
   "metadata": {},
   "outputs": [
    {
     "name": "stdout",
     "output_type": "stream",
     "text": [
      "┏━━━━━━━━━━━━━━━━━━━━━━━━━┳━━━━━━━━━━━━┳━━━━━━┳━━━━━━━━━━━━┳━━━━━━━━━━━━━━━┓\n",
      "┃                         ┃     sum_sq ┃   df ┃          F ┃        PR(>F) ┃\n",
      "┣━━━━━━━━━━━━━━━━━━━━━━━━━╋━━━━━━━━━━━━╋━━━━━━╋━━━━━━━━━━━━╋━━━━━━━━━━━━━━━┫\n",
      "┃ Intercept               ┃ 42692.8    ┃    1 ┃ 178.259    ┃   8.89181e-11 ┃\n",
      "┣━━━━━━━━━━━━━━━━━━━━━━━━━╋━━━━━━━━━━━━╋━━━━━━╋━━━━━━━━━━━━╋━━━━━━━━━━━━━━━┫\n",
      "┃ C(Bloque2)              ┃  1516.44   ┃    1 ┃   6.3317   ┃   0.0215647   ┃\n",
      "┣━━━━━━━━━━━━━━━━━━━━━━━━━╋━━━━━━━━━━━━╋━━━━━━╋━━━━━━━━━━━━╋━━━━━━━━━━━━━━━┫\n",
      "┃ C(Tiempo2)              ┃   841.953  ┃    1 ┃   3.51547  ┃   0.0771185   ┃\n",
      "┣━━━━━━━━━━━━━━━━━━━━━━━━━╋━━━━━━━━━━━━╋━━━━━━╋━━━━━━━━━━━━╋━━━━━━━━━━━━━━━┫\n",
      "┃ C(Estimulo2)            ┃   258.639  ┃    1 ┃   1.07992  ┃   0.312475    ┃\n",
      "┣━━━━━━━━━━━━━━━━━━━━━━━━━╋━━━━━━━━━━━━╋━━━━━━╋━━━━━━━━━━━━╋━━━━━━━━━━━━━━━┫\n",
      "┃ C(Bloque2):C(Estimulo2) ┃   168.225  ┃    1 ┃   0.702405 ┃   0.412968    ┃\n",
      "┣━━━━━━━━━━━━━━━━━━━━━━━━━╋━━━━━━━━━━━━╋━━━━━━╋━━━━━━━━━━━━╋━━━━━━━━━━━━━━━┫\n",
      "┃ C(Bloque2):C(Tiempo2)   ┃    27.7613 ┃    1 ┃   0.115914 ┃   0.73745     ┃\n",
      "┣━━━━━━━━━━━━━━━━━━━━━━━━━╋━━━━━━━━━━━━╋━━━━━━╋━━━━━━━━━━━━╋━━━━━━━━━━━━━━━┫\n",
      "┃ Residual                ┃  4310.99   ┃   18 ┃ nan        ┃ nan           ┃\n",
      "┗━━━━━━━━━━━━━━━━━━━━━━━━━┻━━━━━━━━━━━━┻━━━━━━┻━━━━━━━━━━━━┻━━━━━━━━━━━━━━━┛\n"
     ]
    }
   ],
   "source": [
    "modelo = ols('Viabilidad2 ~ C(Bloque2)+C(Tiempo2)+C(Estimulo2) + C(Bloque2):C(Estimulo2) + C(Bloque2):C(Tiempo2)', data=df1).fit()\n",
    "\n",
    "anova_table = sm.stats.anova_lm(modelo, typ=3)\n",
    "\n",
    "# Mostrar resultados\n",
    "print(tabulate(anova_table,headers='keys',tablefmt='heavy_grid'))"
   ]
  },
  {
   "cell_type": "markdown",
   "id": "25eafa9a",
   "metadata": {},
   "source": [
    "se puede observar que el p-valor de el factor de Bloque ha disminuido, lo que mantiene su \"significancia\". pero en los demás factores e interacciones no se han observado cambios significativos, por lo que procederemos a eliminar la siguiente interaccion con mayor p-valor, esta será la interacción entre los factores Bloque y Tiempo"
   ]
  },
  {
   "cell_type": "code",
   "execution_count": 77,
   "id": "6c57344d",
   "metadata": {},
   "outputs": [
    {
     "name": "stdout",
     "output_type": "stream",
     "text": [
      "┏━━━━━━━━━━━━━━━━━━━━━━━━━┳━━━━━━━━━━━┳━━━━━━┳━━━━━━━━━━━━┳━━━━━━━━━━━━━━━┓\n",
      "┃                         ┃    sum_sq ┃   df ┃          F ┃        PR(>F) ┃\n",
      "┣━━━━━━━━━━━━━━━━━━━━━━━━━╋━━━━━━━━━━━╋━━━━━━╋━━━━━━━━━━━━╋━━━━━━━━━━━━━━━┫\n",
      "┃ Intercept               ┃ 48919.2   ┃    1 ┃ 214.224    ┃   8.46836e-12 ┃\n",
      "┣━━━━━━━━━━━━━━━━━━━━━━━━━╋━━━━━━━━━━━╋━━━━━━╋━━━━━━━━━━━━╋━━━━━━━━━━━━━━━┫\n",
      "┃ C(Bloque2)              ┃  1774.98  ┃    1 ┃   7.7729   ┃   0.0117263   ┃\n",
      "┣━━━━━━━━━━━━━━━━━━━━━━━━━╋━━━━━━━━━━━╋━━━━━━╋━━━━━━━━━━━━╋━━━━━━━━━━━━━━━┫\n",
      "┃ C(Tiempo2)              ┃  1784.31  ┃    1 ┃   7.81374  ┃   0.011541    ┃\n",
      "┣━━━━━━━━━━━━━━━━━━━━━━━━━╋━━━━━━━━━━━╋━━━━━━╋━━━━━━━━━━━━╋━━━━━━━━━━━━━━━┫\n",
      "┃ C(Estimulo2)            ┃   258.639 ┃    1 ┃   1.13262  ┃   0.300557    ┃\n",
      "┣━━━━━━━━━━━━━━━━━━━━━━━━━╋━━━━━━━━━━━╋━━━━━━╋━━━━━━━━━━━━╋━━━━━━━━━━━━━━━┫\n",
      "┃ C(Bloque2):C(Estimulo2) ┃   168.225 ┃    1 ┃   0.736683 ┃   0.401424    ┃\n",
      "┣━━━━━━━━━━━━━━━━━━━━━━━━━╋━━━━━━━━━━━╋━━━━━━╋━━━━━━━━━━━━╋━━━━━━━━━━━━━━━┫\n",
      "┃ Residual                ┃  4338.75  ┃   19 ┃ nan        ┃ nan           ┃\n",
      "┗━━━━━━━━━━━━━━━━━━━━━━━━━┻━━━━━━━━━━━┻━━━━━━┻━━━━━━━━━━━━┻━━━━━━━━━━━━━━━┛\n"
     ]
    }
   ],
   "source": [
    "modelo = ols('Viabilidad2 ~ C(Bloque2)+C(Tiempo2)+C(Estimulo2) + C(Bloque2):C(Estimulo2)', data=df1).fit()\n",
    "\n",
    "anova_table = sm.stats.anova_lm(modelo, typ=3)\n",
    "\n",
    "# Mostrar resultados\n",
    "print(tabulate(anova_table,headers='keys',tablefmt='heavy_grid'))"
   ]
  },
  {
   "cell_type": "markdown",
   "id": "f8f48615",
   "metadata": {},
   "source": [
    "Se puede observar ahora que el factor de tiempo (1 o 7 días) tiene un p-valor de 0.0115, menor a ${\\alpha}=0.05$, entonces tomamos $H_{1}$ por lo que el tiempo de 1 o 7 días SI tiene un efecto significativo en la viabilidad celular, a continuación eliminaremos la interaccion entre los factores Bloque y Estimulo pues su valor p es mayor al ${\\alpha}=0.05$, osea que NO son significativos"
   ]
  },
  {
   "cell_type": "code",
   "execution_count": 78,
   "id": "9a4d77c5",
   "metadata": {},
   "outputs": [
    {
     "name": "stdout",
     "output_type": "stream",
     "text": [
      "┏━━━━━━━━━━━━━━┳━━━━━━━━━━┳━━━━━━┳━━━━━━━━━━━┳━━━━━━━━━━━━━━━┓\n",
      "┃              ┃   sum_sq ┃   df ┃         F ┃        PR(>F) ┃\n",
      "┣━━━━━━━━━━━━━━╋━━━━━━━━━━╋━━━━━━╋━━━━━━━━━━━╋━━━━━━━━━━━━━━━┫\n",
      "┃ Intercept    ┃ 56163.7  ┃    1 ┃ 249.23    ┃   9.3379e-13  ┃\n",
      "┣━━━━━━━━━━━━━━╋━━━━━━━━━━╋━━━━━━╋━━━━━━━━━━━╋━━━━━━━━━━━━━━━┫\n",
      "┃ C(Bloque2)   ┃  5261.22 ┃    1 ┃  23.347   ┃   0.000101262 ┃\n",
      "┣━━━━━━━━━━━━━━╋━━━━━━━━━━╋━━━━━━╋━━━━━━━━━━━╋━━━━━━━━━━━━━━━┫\n",
      "┃ C(Tiempo2)   ┃  1784.31 ┃    1 ┃   7.91799 ┃   0.0107223   ┃\n",
      "┣━━━━━━━━━━━━━━╋━━━━━━━━━━╋━━━━━━╋━━━━━━━━━━━╋━━━━━━━━━━━━━━━┫\n",
      "┃ C(Estimulo2) ┃  1025.18 ┃    1 ┃   4.5493  ┃   0.0455109   ┃\n",
      "┣━━━━━━━━━━━━━━╋━━━━━━━━━━╋━━━━━━╋━━━━━━━━━━━╋━━━━━━━━━━━━━━━┫\n",
      "┃ Residual     ┃  4506.97 ┃   20 ┃ nan       ┃ nan           ┃\n",
      "┗━━━━━━━━━━━━━━┻━━━━━━━━━━┻━━━━━━┻━━━━━━━━━━━┻━━━━━━━━━━━━━━━┛\n"
     ]
    }
   ],
   "source": [
    "modelo = ols('Viabilidad2 ~ C(Bloque2)+C(Tiempo2)+C(Estimulo2)', data=df1).fit()\n",
    "\n",
    "anova_table = sm.stats.anova_lm(modelo, typ=3)\n",
    "\n",
    "# Mostrar resultados\n",
    "print(tabulate(anova_table,headers='keys',tablefmt='heavy_grid'))"
   ]
  },
  {
   "cell_type": "markdown",
   "id": "b555bbef",
   "metadata": {},
   "source": [
    "Ahora, se puede observar que el factor Estimulo tiene un valor p=0.04 menor a ${\\alpha}=0.05$, por lo que tomamos $H_{1}$, concluyendo que los dos estimulos de radiofrecuencias SI tienen un efecto significativo en la viabilidad celular, junto a los otros 2 factores\n",
    "\n",
    "A continuación, corroboraremos el supuesto de normalidad(con prueba de normalidad y QQ-plot) y independencia de los residuos del ANOVA\n"
   ]
  },
  {
   "cell_type": "code",
   "execution_count": 79,
   "id": "11ed42a3",
   "metadata": {},
   "outputs": [
    {
     "name": "stdout",
     "output_type": "stream",
     "text": [
      "\n",
      " Análisis de normalidad por Shapiro-Wilk para 'Residuos'\n",
      "Estadístico = 0.9742, p-valor = 0.7696\n"
     ]
    }
   ],
   "source": [
    "residuos = modelo.resid\n",
    "# normalidad en los residuos \n",
    "\n",
    "test_normalitySW(residuos,'Residuos')"
   ]
  },
  {
   "cell_type": "code",
   "execution_count": 80,
   "id": "3ff709a8",
   "metadata": {},
   "outputs": [
    {
     "data": {
      "image/png": "[encoded data removed]",
      "text/plain": [
       "<Figure size 640x480 with 1 Axes>"
      ]
     },
     "metadata": {},
     "output_type": "display_data"
    }
   ],
   "source": [
    "sm.qqplot(residuos, line='45', fit=True)\n",
    "plt.title(\"QQ-Plot de los Residuos del ANOVA\")\n",
    "plt.show()"
   ]
  },
  {
   "cell_type": "markdown",
   "metadata": {},
   "source": [
    "De acuerdo a lo obtenido por la prueba de normalidad de Shapiro-Wilk, se obtuvo un p-valor de 0.76, mayor al valor ${\\alpha}=0.05$, por lo que tomaríamos la hipotesis nula de esta prueba $H_{0}$, la cual dice que los datos pertenecen a una distribucion normal"
   ]
  },
  {
   "cell_type": "code",
   "execution_count": 81,
   "id": "511eba57",
   "metadata": {},
   "outputs": [
    {
     "name": "stdout",
     "output_type": "stream",
     "text": [
      "Prueba de Runs: p-valor=0.8609237034263656\n"
     ]
    }
   ],
   "source": [
    "random_test(residuos)"
   ]
  },
  {
   "cell_type": "markdown",
   "metadata": {},
   "source": [
    "De la prueba de Runs, la cual tiene las siguientes hipotesis: \n",
    "- $H_{0}$: La secuencia es aleatoria\n",
    "- $H_{1}$: La secuencia NO es aleatoria\n",
    "\n",
    "debido a que obtuvimos un p-valor de aproximadamente 0.86, mayor que el ${\\alpha}=0.05$, entonces rechazamos $H_{1}$ y tomamos $H_{0}$, concluyendo que los residuos son aleatorios\n",
    "\n",
    "Cumpliendo estos supuestos respecto a los residuos del ANOVA, entonces podemos concluir que no hay un sesgo en los datos"
   ]
  },
  {
   "cell_type": "markdown",
   "id": "33dc9d68",
   "metadata": {},
   "source": [
    "<h1>Comparaciones múltiples</h1>\n",
    "Para este experimento no es necesario la realización de comparaciones múltiples ya que todos los los factores poseen niveles binarios signficativos, es decir, ningún factor posee más de  3 niveles significativos, por tanto, no sería útil realizar una prueba Tukey o prueba T pariada para determinar si hay diferencias entre los diferentes niveles de cada factor."
   ]
  },
  {
   "cell_type": "markdown",
   "id": "9e1fdb43",
   "metadata": {},
   "source": [
    "<h1>Hipótesis</h1>\n",
    "\n",
    "<h3>\"La viabilidad de células A375 se reduce significativamente cuando se exponen a nanopartículas de oro recubiertas con PEG durante mayor tiempo y con estímulo de radiofrecuencia, debido a un efecto térmico inducido\".</h3>\n",
    "\n",
    "\n",
    "El análisis de varianza realizado sobre los datos de viabilidad celular en células A375 indica que los tres factores evaluados tienen efectos estadísticamente significativos sobre la viabilidad celular. Es decir, estos factores influyen de manera importante en los resultados del experimento.\n",
    "\n",
    "Sin embargo, aunque se identificaron diferencias significativas, los valores de viabilidad observados son, en general, altos (superiores al 80% en la mayoría de los casos), lo cual no respalda completamente la hipótesis de que la combinación del recubrimiento con PEG, mayor tiempo de exposición y estimulación con radiofrecuencia cause una reducción drástica en la viabilidad celular.\n",
    "\n",
    "Adicionalmente, no se incluyó un grupo control (es decir, células no tratadas con nanopartículas ni estímulo), lo que impide establecer una línea base con la cual comparar si la viabilidad celular realmente disminuyó o aumentó tras el tratamiento. Sin esta comparación directa con un control, no es posible concluir con certeza si los tratamientos evaluados inducen muerte celular o si, por el contrario, pueden estar favoreciendo la viabilidad. \n",
    "\n",
    "Por tanto, se conluye que, aunque los factores estudiados afectan significativamente la viabilidad celular, los datos no permiten confirmar la hipótesis de que el tratamiento induce muerte celular  por efecto térmico. Se debería incluir un grupo control en estudios futuros y analizar las medias por grupo para identificar condiciones específicas que puedan inducir un efecto citotóxico más claro. "
   ]
  }
 ],
 "metadata": {
  "kernelspec": {
   "display_name": "base",
   "language": "python",
   "name": "python3"
  },
  "language_info": {
   "codemirror_mode": {
    "name": "ipython",
    "version": 3
   },
   "file_extension": ".py",
   "mimetype": "text/x-python",
   "name": "python",
   "nbconvert_exporter": "python",
   "pygments_lexer": "ipython3",
   "version": "3.12.9"
  }
 },
 "nbformat": 4,
 "nbformat_minor": 5
}
